{
 "cells": [
  {
   "cell_type": "markdown",
   "metadata": {},
   "source": [
    "[Neural Ordinary Differential Equations \\- MSur](https://msurtsukov.github.io/Neural-ODE/)"
   ]
  },
  {
   "cell_type": "code",
   "execution_count": 1,
   "metadata": {},
   "outputs": [
    {
     "data": {
      "text/plain": [
       "array([0.  , 0.01, 0.02, 0.03, 0.04, 0.05, 0.06, 0.07, 0.08, 0.09, 0.1 ,\n",
       "       0.11, 0.12, 0.13, 0.14, 0.15, 0.16, 0.17, 0.18, 0.19, 0.2 , 0.21,\n",
       "       0.22, 0.23, 0.24, 0.25, 0.26, 0.27, 0.28, 0.29, 0.3 , 0.31, 0.32,\n",
       "       0.33, 0.34, 0.35, 0.36, 0.37, 0.38, 0.39, 0.4 , 0.41, 0.42, 0.43,\n",
       "       0.44, 0.45, 0.46, 0.47, 0.48, 0.49, 0.5 , 0.51, 0.52, 0.53, 0.54,\n",
       "       0.55, 0.56, 0.57, 0.58, 0.59, 0.6 , 0.61, 0.62, 0.63, 0.64, 0.65,\n",
       "       0.66, 0.67, 0.68, 0.69, 0.7 , 0.71, 0.72, 0.73, 0.74, 0.75, 0.76,\n",
       "       0.77, 0.78, 0.79, 0.8 , 0.81, 0.82, 0.83, 0.84, 0.85, 0.86, 0.87,\n",
       "       0.88, 0.89, 0.9 , 0.91, 0.92, 0.93, 0.94, 0.95, 0.96, 0.97, 0.98,\n",
       "       0.99, 1.  ])"
      ]
     },
     "execution_count": 1,
     "metadata": {},
     "output_type": "execute_result"
    }
   ],
   "source": [
    "import numpy\n",
    "numpy.linspace(0., 1., 101)"
   ]
  },
  {
   "cell_type": "code",
   "execution_count": 2,
   "metadata": {},
   "outputs": [
    {
     "data": {
      "text/plain": [
       "<function numpy.cumsum(a, axis=None, dtype=None, out=None)>"
      ]
     },
     "execution_count": 2,
     "metadata": {},
     "output_type": "execute_result"
    }
   ],
   "source": [
    "numpy.diff(numpy.linspace(0., 1., 101))\n",
    "numpy.cumsum"
   ]
  },
  {
   "cell_type": "code",
   "execution_count": 3,
   "metadata": {},
   "outputs": [
    {
     "data": {
      "text/plain": [
       "tensor([0.0100, 0.0100, 0.0100, 0.0100, 0.0100, 0.0100, 0.0100, 0.0100, 0.0100,\n",
       "        0.0100, 0.0100, 0.0100, 0.0100, 0.0100, 0.0100, 0.0100, 0.0100, 0.0100,\n",
       "        0.0100, 0.0100, 0.0100, 0.0100, 0.0100, 0.0100, 0.0100, 0.0100, 0.0100,\n",
       "        0.0100, 0.0100, 0.0100, 0.0100, 0.0100, 0.0100, 0.0100, 0.0100, 0.0100,\n",
       "        0.0100, 0.0100, 0.0100, 0.0100, 0.0100, 0.0100, 0.0100, 0.0100, 0.0100,\n",
       "        0.0100, 0.0100, 0.0100, 0.0100, 0.0100, 0.0100, 0.0100, 0.0100, 0.0100,\n",
       "        0.0100, 0.0100, 0.0100, 0.0100, 0.0100, 0.0100, 0.0100, 0.0100, 0.0100,\n",
       "        0.0100, 0.0100, 0.0100, 0.0100, 0.0100, 0.0100, 0.0100, 0.0100, 0.0100,\n",
       "        0.0100, 0.0100, 0.0100, 0.0100, 0.0100, 0.0100, 0.0100, 0.0100, 0.0100,\n",
       "        0.0100, 0.0100, 0.0100, 0.0100, 0.0100, 0.0100, 0.0100, 0.0100, 0.0100,\n",
       "        0.0100, 0.0100, 0.0100, 0.0100, 0.0100, 0.0100, 0.0100, 0.0100, 0.0100,\n",
       "        0.0100])"
      ]
     },
     "execution_count": 3,
     "metadata": {},
     "output_type": "execute_result"
    }
   ],
   "source": [
    "import torch\n",
    "t = torch.linspace(0, 1, 101)\n",
    "t[1:] - t[:-1]"
   ]
  },
  {
   "cell_type": "code",
   "execution_count": 4,
   "metadata": {},
   "outputs": [
    {
     "data": {
      "text/plain": [
       "tensor([0.0000, 2.7048, 5.4096])"
      ]
     },
     "execution_count": 4,
     "metadata": {},
     "output_type": "execute_result"
    }
   ],
   "source": [
    "import numpy\n",
    "def ode_solve(z0, t0, t1, f):#t0 & t1 are not scolar?\n",
    "#    print(t0, t1)\n",
    "    t_array = torch.linspace(t0[0,0], t1[0,0], steps=101)\n",
    "    z = z0\n",
    "    for t, h in zip(t_array[1:], t_array[1:]-t_array[:-1]):\n",
    "        z = z + h*f(z, t)\n",
    "    return z\n",
    "\n",
    "ode_solve(torch.tensor([0.,1.,2.]), torch.tensor([[0]]), torch.tensor([[1]]), lambda x,t : x)"
   ]
  },
  {
   "cell_type": "code",
   "execution_count": 5,
   "metadata": {},
   "outputs": [
    {
     "data": {
      "text/plain": [
       "tensor([0.0000, 2.7183, 5.4366])"
      ]
     },
     "execution_count": 5,
     "metadata": {},
     "output_type": "execute_result"
    }
   ],
   "source": [
    "import math\n",
    "math.e * torch.tensor([0., 1., 2.])"
   ]
  },
  {
   "cell_type": "code",
   "execution_count": 6,
   "metadata": {},
   "outputs": [],
   "source": [
    "import torch\n",
    "from torch import nn\n",
    "from torch import Tensor\n",
    "class ODEF(nn.Module):\n",
    "    def forward_with_grad(self, z, t, a):\n",
    "        \"\"\"\n",
    "        Compute f, adf/dz, adf/dp(parameter:theta) & adf/dt\n",
    "        Args:\n",
    "            - z:\n",
    "                - shape:(batch_size, )\n",
    "            - t:\n",
    "            - a: adjoint\n",
    "                - the length of `graph_outputs` should match the length of `outputs`\n",
    "                    >[Automatic differentiation package \\- torch\\.autograd — PyTorch master documentation](https://pytorch.org/docs/stable/autograd.html)\n",
    "        \"\"\"\n",
    "        batch_size = z.shape[0]\n",
    "        \n",
    "        #calc forward propagation\n",
    "        out = self.forward(z, t)\n",
    "        #calc backward propagation\n",
    "        adfdz, adfdt, *adfdp = torch.autograd.grad(\n",
    "            (out,),\n",
    "            (z, t) + tuple(self.parameters()),\n",
    "            grad_outputs=(a,),\n",
    "            allow_unused=True,\n",
    "            retain_graph=True,\n",
    "        )\n",
    "        #expand adfdp\n",
    "        #[adfdps_of_parameter1, adfdps_of_parameter2,...] -> [*adfdp_in_batch1, *adfdp_in_batch2,...]/batchsize\n",
    "        if adfdp is not None:\n",
    "            adfdp = torch.cat([grad_about_a_parameter.flatten() for grad_about_a_parameter in adfdp]).unsqueeze(0)\n",
    "            adfdp = adfdp.expand(batch_size, -1)#-1 should be the number of parameters\n",
    "        #expand adfdt\n",
    "        if adfdt is not None:\n",
    "            adfdt = adfdt.expand(batch_size, 1) / batch_size\n",
    "\n",
    "        return out, adfdz, adfdt, adfdp\n",
    "\n",
    "    def flatten_parameters(self):\n",
    "        return torch.cat([p.flatten() for p in self.parameters()])"
   ]
  },
  {
   "cell_type": "code",
   "execution_count": 7,
   "metadata": {},
   "outputs": [
    {
     "data": {
      "text/plain": [
       "tensor([[-2.6286,  0.1725, -0.9721],\n",
       "        [-2.6286,  0.1725, -0.9721],\n",
       "        [-2.6286,  0.1725, -0.9721]])"
      ]
     },
     "execution_count": 7,
     "metadata": {},
     "output_type": "execute_result"
    }
   ],
   "source": [
    "torch.cat([torch.randn(1,3)]*3,0)"
   ]
  },
  {
   "cell_type": "markdown",
   "metadata": {},
   "source": [
    ">We have to separate it from main `torch.nn.Module` because custom backward function can’t be implemented inside Module, but can be implemented inside `torch.autograd.Function`.\n"
   ]
  },
  {
   "cell_type": "code",
   "execution_count": 8,
   "metadata": {},
   "outputs": [],
   "source": [
    "class ODEAdjoint(torch.autograd.Function):\n",
    "    \"\"\"\n",
    "    Custom autograd function for neural ode\n",
    "    \"\"\"\n",
    "    @staticmethod\n",
    "    def forward(context, z0, t, flat_parameters, func):\n",
    "        \"\"\"\n",
    "        underconstruction\n",
    "        Args:\n",
    "            context:\n",
    "            z0:\n",
    "            t (torch.Tensor): like torch.Tensor([0, 1])\n",
    "            flat_parameters:return of `ODEF.flatten_parameters()`\n",
    "            func (ODEF):\n",
    "        Return:\n",
    "            torch.Tensor: whole z \n",
    "        Examples:\n",
    "            \n",
    "        \"\"\"\n",
    "        assert isinstance(func, ODEF)#To avoid emerge type error only in backword()\n",
    "        \n",
    "        batch_size, *z_shape = z0.size()\n",
    "        #???\n",
    "        with torch.no_grad():\n",
    "            z = torch.zeros(len(t), batch_size, *z_shape).to(z0)#make same type array & use same device\n",
    "            z[0] = z0\n",
    "            #This line does only allocate memory explicitly?\n",
    "            for i in range(len(t)-1):\n",
    "                z[i+1] = ode_solve(z[i], t[i], t[i+1], func)\n",
    "        #save states for backward\n",
    "        context.func = func\n",
    "        context.save_for_backward(\n",
    "            t,\n",
    "            z.clone(),#why take copy?\n",
    "            flat_parameters,\n",
    "        )\n",
    "        \n",
    "        return z\n",
    "    \n",
    "    @staticmethod\n",
    "    def backward(context, dLdz):\n",
    "        \"\"\"\n",
    "\n",
    "        Args:\n",
    "            dLdz (torch.Tensor):\n",
    "                dLdz.shape: len(t), batch_size, *z_shape\n",
    "        \"\"\"\n",
    "        func = context.func\n",
    "        t, z, flat_parameters = context.saved_tensors\n",
    "        _, batch_size, *z_shape = z.size()\n",
    "        number_of_dimension = numpy.prod(z_shape)\n",
    "        number_of_parameters = len(flat_parameters)\n",
    "\n",
    "        def augmented_dynamics(aug_z_i, t_i):\n",
    "            \"\"\"\n",
    "            Dynamics of augmented system t obe calculated backwards in time\n",
    "            Args:\n",
    "                arg_z_i (torch.Tensor): torch.cat(z_i, a, )\n",
    "            \"\"\"\n",
    "            z_i, a = aug_z_i[:, :number_of_dimension], aug_z_i[:, number_of_dimension:2*number_of_dimension]  # ignore parameters and time\n",
    "\n",
    "            # Unflatten z and a\n",
    "            z_i = z_i.view(batch_size, *z_shape)\n",
    "            a = a.view(batch_size, *z_shape)\n",
    "            with torch.set_grad_enabled(True):\n",
    "                t_i = t_i.detach().requires_grad_(True)\n",
    "                z_i = z_i.detach().requires_grad_(True)\n",
    "                func_eval, adfdz, adfdt, adfdp = func.forward_with_grad(z_i, t_i, a)  # bs, *z_shape\n",
    "                adfdz = adfdz.to(z_i) if adfdz is not None else torch.zeros(batch_size, *z_shape).to(z_i)\n",
    "                adfdp = adfdp.to(z_i) if adfdp is not None else torch.zeros(batch_size, number_of_parameters).to(z_i)\n",
    "                adfdt = adfdt.to(z_i) if adfdt is not None else torch.zeros(batch_size, 1).to(z_i)\n",
    "\n",
    "            # Flatten f and adfdz\n",
    "            func_eval = func_eval.view(batch_size, number_of_dimension)\n",
    "            adfdz = adfdz.view(batch_size, number_of_dimension)\n",
    "            return torch.cat((func_eval, -adfdz, -adfdp, -adfdt), dim=1)\n",
    "        \n",
    "        dLdz = dLdz.view(len(t), batch_size, number_of_dimension)#flatten for convinience\n",
    "        with torch.no_grad():\n",
    "            adjoint_z = torch.zeros(batch_size, number_of_dimension).to(dLdz)\n",
    "            adjoint_p = torch.zeros(batch_size, number_of_parameters).to(dLdz)\n",
    "            adjoint_t = torch.zeros(len(t), batch_size, 1).to(dLdz)\n",
    "            \n",
    "            for i in reversed(range(1, len(t))):# i in [batch_size, ..., 1]\n",
    "                f_i = func(z[i], t[i]).view(batch_size, number_of_dimension)#flatten f_i\n",
    "                dLdz_i = torch.bmm(#(a*b).sum()\n",
    "                    dLdz[i].unsqueeze(-1).transpose(1, 2),#(batch_size, 1, number_of_dimension)\n",
    "                    f_i.unsqueeze(-1)#(batch_size, number_of_dimension, 1)\n",
    "                )[:, 0]#(batch_size, 1, 1)--[:, 0]->(batch_size, 1)\n",
    "\n",
    "                #Adjusting adjoints with direct gradients (using Euler method?)\n",
    "                adjoint_z += dLdz_i\n",
    "                adjoint_t[i] -= dLdz_i\n",
    "                \n",
    "                #solve augmented system backward\n",
    "                augmented_z = torch.cat(\n",
    "                    (\n",
    "                        z[i].view(batch_size, number_of_dimension),\n",
    "                        adjoint_z,\n",
    "                        torch.zeros(batch_size, number_of_parameters).to(z),\n",
    "                        adjoint_t[i],\n",
    "                    ),\n",
    "                    dim=-1\n",
    "                )\n",
    "                augmented_answer = ode_solve(augmented_z, t[i], t[i-1], augmented_dynamics)\n",
    "                adjoint_z[:] = augmented_answer[:, number_of_dimension:2*number_of_dimension]\n",
    "                adjoint_p[:] = augmented_answer[:, 2*number_of_dimension:2*number_of_dimension + number_of_parameters]\n",
    "                adjoint_t[i-1] = augmented_answer[:, 2*number_of_dimension + number_of_parameters:]\n",
    "                \n",
    "                #del augmented_z, augmented_answer\n",
    "            #Adjust t=0 adjoint with direct gradients (using Euler method?)\n",
    "            dLdz_0 = torch.bmm(\n",
    "                dLdz[0].unsqueeze(-1).transpose(1, 2),\n",
    "                func(z[0], t[0]).view(batch_size, number_of_dimension).unsqueeze(-1),#f_i.unsqueeze(-1)???\n",
    "            )[:, 0]\n",
    "            adjoint_z += dLdz_0\n",
    "            adjoint_t[0] -= dLdz_0\n",
    "        return adjoint_z.view(batch_size, *z_shape), adjoint_t, adjoint_p, None#why return additional None?"
   ]
  },
  {
   "cell_type": "code",
   "execution_count": 9,
   "metadata": {},
   "outputs": [],
   "source": [
    "class NeuralODE(nn.Module):\n",
    "    def __init__(self, func):\n",
    "        super().__init__()\n",
    "        assert isinstance(func, ODEF)\n",
    "        self.func = func\n",
    "    def forward(self, z0, t, return_whole_sequence=False):\n",
    "        if return_whole_sequence:\n",
    "            return ODEAdjoint.apply(z0, t, self.func.flatten_parameters(), self.func)\n",
    "        else:\n",
    "            return ODEAdjoint.apply(z0, t, self.func.flatten_parameters(), self.func)[-1]"
   ]
  },
  {
   "cell_type": "code",
   "execution_count": 10,
   "metadata": {},
   "outputs": [],
   "source": [
    "class LinearODEF(ODEF):\n",
    "    def __init__(self, W):\n",
    "        super(LinearODEF, self).__init__()\n",
    "        self.lin = nn.Linear(2, 2, bias=False)\n",
    "        self.lin.weight = nn.Parameter(W)\n",
    "\n",
    "    def forward(self, x, t):\n",
    "        return self.lin(x)\n",
    "\n",
    "class SpiralFunctionExample(LinearODEF):\n",
    "    def __init__(self):\n",
    "        super(SpiralFunctionExample, self).__init__(Tensor([[-0.1, -1.], [1., -0.1]]))\n",
    "\n",
    "class RandomLinearODEF(LinearODEF):\n",
    "    def __init__(self):\n",
    "        super(RandomLinearODEF, self).__init__(torch.randn(2, 2)/2.)\n",
    "\n",
    "class TestODEF(ODEF):\n",
    "    def __init__(self, A, B, x0):\n",
    "        super(TestODEF, self).__init__()\n",
    "        self.A = nn.Linear(2, 2, bias=False)\n",
    "        self.A.weight = nn.Parameter(A)\n",
    "        self.B = nn.Linear(2, 2, bias=False)\n",
    "        self.B.weight = nn.Parameter(B)\n",
    "        self.x0 = nn.Parameter(x0)\n",
    "\n",
    "    def forward(self, x, t):\n",
    "        xTx0 = torch.sum(x*self.x0, dim=1)\n",
    "        dxdt = torch.sigmoid(xTx0) * self.A(x - self.x0) + torch.sigmoid(-xTx0) * self.B(x + self.x0)\n",
    "        return dxdt\n",
    "\n",
    "class NNODEF(ODEF):\n",
    "    def __init__(self, in_dim, hid_dim, time_invariant=False):\n",
    "        super(NNODEF, self).__init__()\n",
    "        self.time_invariant = time_invariant\n",
    "\n",
    "        if time_invariant:\n",
    "            self.lin1 = nn.Linear(in_dim, hid_dim)\n",
    "        else:\n",
    "            self.lin1 = nn.Linear(in_dim+1, hid_dim)\n",
    "        self.lin2 = nn.Linear(hid_dim, hid_dim)\n",
    "        self.lin3 = nn.Linear(hid_dim, in_dim)\n",
    "        self.elu = nn.ELU(inplace=True)\n",
    "\n",
    "    def forward(self, x, t):\n",
    "        if not self.time_invariant:\n",
    "            x = torch.cat((x, t), dim=-1)\n",
    "\n",
    "        h = self.elu(self.lin1(x))\n",
    "        h = self.elu(self.lin2(h))\n",
    "        out = self.lin3(h)\n",
    "        return out"
   ]
  },
  {
   "cell_type": "code",
   "execution_count": 11,
   "metadata": {},
   "outputs": [],
   "source": [
    "import matplotlib.pyplot as plt\n",
    "import matplotlib.cm as cm\n",
    "\n",
    "def to_np(x):\n",
    "    return x.detach().cpu().numpy()\n",
    "def plot_trajectories(obs=None, times=None, trajs=None, save=None, figsize=(16, 8)):\n",
    "    plt.figure(figsize=figsize)\n",
    "    if obs is not None:\n",
    "        if times is None:\n",
    "            times = [None] * len(obs)\n",
    "        for o, t in zip(obs, times):\n",
    "            o, t = to_np(o), to_np(t)\n",
    "            for b_i in range(o.shape[1]):\n",
    "                plt.scatter(o[:, b_i, 0], o[:, b_i, 1], c=t[:, b_i, 0], cmap=cm.plasma)\n",
    "\n",
    "    if trajs is not None:\n",
    "        for z in trajs:\n",
    "            z = to_np(z)\n",
    "            plt.plot(z[:, 0, 0], z[:, 0, 1], lw=1.5)\n",
    "        if save is not None:\n",
    "            plt.savefig(save)\n",
    "    plt.show()"
   ]
  },
  {
   "cell_type": "code",
   "execution_count": 12,
   "metadata": {},
   "outputs": [],
   "source": [
    "from torch.nn import functional as F\n",
    "from torch.autograd import Variable\n",
    "from IPython.display import clear_output\n",
    "from tqdm import tqdm_notebook as tqdm\n",
    "def conduct_experiment(ode_true, ode_trained, n_steps, name, plot_freq=10):\n",
    "    # Create data\n",
    "    z0 = Variable(torch.Tensor([[0.6, 0.3]]))\n",
    "\n",
    "    t_max = 6.29*5\n",
    "    n_points = 200\n",
    "\n",
    "    index_np = numpy.arange(0, n_points, 1, dtype=numpy.int)\n",
    "    index_np = numpy.hstack([index_np[:, None]])\n",
    "    times_np = numpy.linspace(0, t_max, num=n_points)\n",
    "    times_np = numpy.hstack([times_np[:, None]])\n",
    "\n",
    "    times = torch.from_numpy(times_np[:, :, None]).to(z0)\n",
    "    obs = ode_true(z0, times, return_whole_sequence=True).detach()\n",
    "    obs = obs + torch.randn_like(obs) * 0.01\n",
    "\n",
    "    # Get trajectory of random timespan\n",
    "    min_delta_time = 1.0\n",
    "    max_delta_time = 5.0\n",
    "    max_points_num = 32\n",
    "    def create_batch():\n",
    "        t0 = numpy.random.uniform(0, t_max - max_delta_time)\n",
    "        t1 = t0 + numpy.random.uniform(min_delta_time, max_delta_time)\n",
    "\n",
    "        idx = sorted(numpy.random.permutation(index_np[(times_np > t0) & (times_np < t1)])[:max_points_num])\n",
    "\n",
    "        obs_ = obs[idx]\n",
    "        ts_ = times[idx]\n",
    "        return obs_, ts_\n",
    "\n",
    "    # Train Neural ODE\n",
    "    optimizer = torch.optim.Adam(ode_trained.parameters(), lr=0.01)\n",
    "    for i in tqdm(range(n_steps)):\n",
    "        obs_, ts_ = create_batch()\n",
    "\n",
    "        z_ = ode_trained(obs_[0], ts_, return_whole_sequence=True)\n",
    "        loss = F.mse_loss(z_, obs_.detach())\n",
    "\n",
    "        optimizer.zero_grad()\n",
    "        loss.backward(retain_graph=True)\n",
    "        optimizer.step()\n",
    "\n",
    "        if i % plot_freq == 0:\n",
    "            z_p = ode_trained(z0, times, return_whole_sequence=True)\n",
    "\n",
    "            plot_trajectories(obs=[obs], times=[times], trajs=[z_p], save=f\"assets/imgs/{name}/{i}.png\")\n",
    "            clear_output(wait=True)"
   ]
  },
  {
   "cell_type": "code",
   "execution_count": 13,
   "metadata": {},
   "outputs": [],
   "source": [
    "ode_true = NeuralODE(SpiralFunctionExample())\n",
    "ode_trained = NeuralODE(RandomLinearODEF())"
   ]
  },
  {
   "cell_type": "code",
   "execution_count": 14,
   "metadata": {},
   "outputs": [
    {
     "name": "stdout",
     "output_type": "stream",
     "text": [
      "\n"
     ]
    }
   ],
   "source": [
    "conduct_experiment(ode_true, ode_trained, 500, \"linear\")"
   ]
  },
  {
   "cell_type": "code",
   "execution_count": 15,
   "metadata": {},
   "outputs": [],
   "source": [
    "func = TestODEF(Tensor([[-0.1, -0.5], [0.5, -0.1]]), Tensor([[0.2, 1.], [-1, 0.2]]), Tensor([[-1., 0.]]))\n",
    "ode_true = NeuralODE(func)\n",
    "\n",
    "func = NNODEF(2, 16, time_invariant=True)\n",
    "ode_trained = NeuralODE(func)"
   ]
  },
  {
   "cell_type": "code",
   "execution_count": 17,
   "metadata": {},
   "outputs": [
    {
     "name": "stdout",
     "output_type": "stream",
     "text": [
      "\n"
     ]
    }
   ],
   "source": [
    "conduct_experiment(ode_true, ode_trained, 3000, \"comp\", plot_freq=30)"
   ]
  }
 ],
 "metadata": {
  "kernelspec": {
   "display_name": "Python 3",
   "language": "python",
   "name": "python3"
  },
  "language_info": {
   "codemirror_mode": {
    "name": "ipython",
    "version": 3
   },
   "file_extension": ".py",
   "mimetype": "text/x-python",
   "name": "python",
   "nbconvert_exporter": "python",
   "pygments_lexer": "ipython3",
   "version": "3.6.8"
  }
 },
 "nbformat": 4,
 "nbformat_minor": 2
}
